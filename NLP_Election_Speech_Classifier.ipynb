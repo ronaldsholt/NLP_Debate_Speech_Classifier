{
 "cells": [
  {
   "cell_type": "markdown",
   "metadata": {},
   "source": [
    "# Natural Language Processing of 2016 President Election Debate Speech\n",
    "\n",
    "### Basic utilization of nltk, stopwords, Term Occurrence, Feature Extraction, and on-the-fly multi-model evaluation!\n",
    "\n",
    "The purpse for this notebook is to use NLP to classify a speaker based on words used from the transcript while using multi-models quickly. \n",
    "\n",
    "Info on Term Occurence from Sci-kit Learn: http://scikit-learn.org/stable/tutorial/text_analytics/working_with_text_data.html "
   ]
  },
  {
   "cell_type": "markdown",
   "metadata": {},
   "source": [
    "Step 1: Import basic packages + make sure stopwords are downloaded. Use nltk.download() for nltk packages. \n"
   ]
  },
  {
   "cell_type": "code",
   "execution_count": 16,
   "metadata": {},
   "outputs": [
    {
     "data": {
      "text/html": [
       "<div>\n",
       "<style scoped>\n",
       "    .dataframe tbody tr th:only-of-type {\n",
       "        vertical-align: middle;\n",
       "    }\n",
       "\n",
       "    .dataframe tbody tr th {\n",
       "        vertical-align: top;\n",
       "    }\n",
       "\n",
       "    .dataframe thead th {\n",
       "        text-align: right;\n",
       "    }\n",
       "</style>\n",
       "<table border=\"1\" class=\"dataframe\">\n",
       "  <thead>\n",
       "    <tr style=\"text-align: right;\">\n",
       "      <th></th>\n",
       "      <th>Line</th>\n",
       "      <th>Speaker</th>\n",
       "      <th>Text</th>\n",
       "      <th>Date</th>\n",
       "    </tr>\n",
       "  </thead>\n",
       "  <tbody>\n",
       "    <tr>\n",
       "      <th>0</th>\n",
       "      <td>1</td>\n",
       "      <td>Holt</td>\n",
       "      <td>Good evening from Hofstra University in Hempst...</td>\n",
       "      <td>9/26/16</td>\n",
       "    </tr>\n",
       "    <tr>\n",
       "      <th>1</th>\n",
       "      <td>2</td>\n",
       "      <td>Audience</td>\n",
       "      <td>(APPLAUSE)</td>\n",
       "      <td>9/26/16</td>\n",
       "    </tr>\n",
       "    <tr>\n",
       "      <th>2</th>\n",
       "      <td>3</td>\n",
       "      <td>Clinton</td>\n",
       "      <td>How are you, Donald?</td>\n",
       "      <td>9/26/16</td>\n",
       "    </tr>\n",
       "    <tr>\n",
       "      <th>3</th>\n",
       "      <td>4</td>\n",
       "      <td>Audience</td>\n",
       "      <td>(APPLAUSE)</td>\n",
       "      <td>9/26/16</td>\n",
       "    </tr>\n",
       "    <tr>\n",
       "      <th>4</th>\n",
       "      <td>5</td>\n",
       "      <td>Holt</td>\n",
       "      <td>Good luck to you.</td>\n",
       "      <td>9/26/16</td>\n",
       "    </tr>\n",
       "  </tbody>\n",
       "</table>\n",
       "</div>"
      ],
      "text/plain": [
       "   Line   Speaker                                               Text     Date\n",
       "0     1      Holt  Good evening from Hofstra University in Hempst...  9/26/16\n",
       "1     2  Audience                                         (APPLAUSE)  9/26/16\n",
       "2     3   Clinton                               How are you, Donald?  9/26/16\n",
       "3     4  Audience                                         (APPLAUSE)  9/26/16\n",
       "4     5      Holt                                  Good luck to you.  9/26/16"
      ]
     },
     "execution_count": 16,
     "metadata": {},
     "output_type": "execute_result"
    }
   ],
   "source": [
    "import pandas as pd\n",
    "import nltk  \n",
    "import matplotlib.pylab as plt\n",
    "#nltk.download() - Use only when need a package\n",
    "from nltk.corpus import stopwords\n",
    "from nltk.tokenize import word_tokenize\n",
    "from nltk.tokenize import TweetTokenizer\n",
    "from sklearn.model_selection import train_test_split\n",
    "\n",
    "#Take a quick look at the data\n",
    "df = pd.read_csv(\"debate.csv\", encoding = \"ISO-8859-1\")\n",
    "df.head()"
   ]
  },
  {
   "cell_type": "markdown",
   "metadata": {},
   "source": [
    "#### Step 2: \n",
    "\n",
    "Set-up stopwords, target (t1), and random seed for preprocessing section. This will remove all stop words from the dataframe, as well columns 'Line' and 'Date' which we are not using. Import_cleanse() reads in the file, drops columns, filters for 'Clinton' and 'Trump' transcripts only. (Modify this for other speakers). Finally, using train_test_split() we split the data into 80/20 for training and validation of our models. "
   ]
  },
  {
   "cell_type": "code",
   "execution_count": 78,
   "metadata": {},
   "outputs": [],
   "source": [
    "######### Params Set-Up #############################\n",
    "\"\"\" stopwords, target, and random seed settings \"\"\" #\n",
    "stop_words = set(stopwords.words('english'))        #\n",
    "                                                    #\n",
    "t1 = 'Speaker'                                      #\n",
    "SEED = 1253                                         #\n",
    "#####################################################\n",
    "\n",
    "\"\"\" Pre-Processing Functions \"\"\"\n",
    "def remove_stopwords(sen, stopwords=stop_words):\n",
    "    punct = [',','.',\"'\",'!',';','?','-']\n",
    "    tt = TweetTokenizer()\n",
    "    tokens = tt.tokenize(sen)\n",
    "    tokens = [w for w in tokens if w not in stopwords and w not in punct]\n",
    "    return \" \".join(tokens)\n",
    "\n",
    "\n",
    "def import_cleanse():\n",
    "    \"\"\" :input_file = set file pwd at main\n",
    "    \"\"\"\n",
    "    df = pd.read_csv(\"debate.csv\", encoding = \"ISO-8859-1\")\n",
    "    #Dropping line index and Date from this analysis\n",
    "    df.drop('Line', axis=1, inplace=True)\n",
    "    df.drop('Date', axis=1, inplace=True)\n",
    "    \n",
    "    #Applying remove_stopwords\n",
    "    df['Text'] = df['Text'].apply(remove_stopwords)\n",
    "    return df\n",
    "\n",
    "\n",
    "def traintestsplit(filtered=None):\n",
    "    #Bring in cleaned data\n",
    "    data = import_cleanse()\n",
    "    \n",
    "    # Adding filter option for later\n",
    "    if filtered == None:\n",
    "        data = data[(data['Speaker'] == 'Trump') | (data['Speaker'] == 'Clinton')]\n",
    "    elif filtered == 'OFF':\n",
    "        data = data[(data['Speaker'] != 'QUESTION') & (data['Speaker'] != 'CANDIDATES')]\n",
    "    \n",
    "    # Continue with splitting...\n",
    "    X_train, X_validation = train_test_split(data, \n",
    "                                             test_size=0.20, \n",
    "                                             random_state = SEED)\n",
    "    y_train = (X_train[[t1]])              \n",
    "    X_train = X_train.drop([t1], axis=1)   \n",
    "\n",
    "    y_validation = (X_validation[[t1]])             \n",
    "    X_validation = X_validation.drop([t1], axis=1)\n",
    "    \n",
    "    \n",
    "    return X_train, X_validation, y_train, y_validation\n",
    "\n",
    "# Final step returning df's for training and validation \n",
    "X_train, X_validation, y_train, y_validation = traintestsplit()"
   ]
  },
  {
   "cell_type": "code",
   "execution_count": 53,
   "metadata": {},
   "outputs": [],
   "source": [
    "#y_train.groupby(['Speaker']).count()"
   ]
  },
  {
   "cell_type": "markdown",
   "metadata": {},
   "source": [
    "#### Step 3:\n",
    "\n",
    "In this step we will define a function to iterate through multiple machine learning models on-the-fly. This allows for a quick way to easily evaluate and multiple models at once. (recommened for relatively small datasets, or sampling) The function will use model.predict and we can see the results & performance from confusion_matrix and accuracy.\n",
    "\n",
    "NOTE: Each classifier is using out-of-the-box parameters. "
   ]
  },
  {
   "cell_type": "code",
   "execution_count": 20,
   "metadata": {},
   "outputs": [
    {
     "name": "stdout",
     "output_type": "stream",
     "text": [
      "('MultinomialNB', 'Performance')\n",
      "=========================\n",
      "[u'Clinton' u'Trump']\n",
      "[[20 29]\n",
      " [ 1 70]]\n",
      "('Accurracy:', 0.75)\n",
      "\n",
      "('BernoulliNB', 'Performance')\n",
      "=========================\n",
      "[u'Clinton' u'Trump']\n",
      "[[18 31]\n",
      " [ 0 71]]\n",
      "('Accurracy:', 0.7416666666666667)\n",
      "\n",
      "('RandomForestClassifier', 'Performance')\n",
      "=========================\n",
      "[u'Clinton' u'Trump']\n",
      "[[32 17]\n",
      " [20 51]]\n",
      "('Accurracy:', 0.6916666666666667)\n",
      "\n",
      "('MLPClassifier', 'Performance')\n",
      "=========================\n",
      "[u'Clinton' u'Trump']\n",
      "[[31 18]\n",
      " [ 6 65]]\n",
      "('Accurracy:', 0.8)\n",
      "\n",
      "('KNN', 'Performance')\n",
      "=========================\n",
      "[u'Clinton' u'Trump']\n",
      "[[25 24]\n",
      " [11 60]]\n",
      "('Accurracy:', 0.7083333333333334)\n",
      "\n",
      "('SVC', 'Performance')\n",
      "=========================\n",
      "[u'Clinton' u'Trump']\n",
      "[[ 0 49]\n",
      " [ 0 71]]\n",
      "('Accurracy:', 0.5916666666666667)\n",
      "\n"
     ]
    }
   ],
   "source": [
    "from sklearn.metrics import confusion_matrix\n",
    "from sklearn.metrics import classification_report\n",
    "from sklearn.metrics import accuracy_score\n",
    "from sklearn.pipeline import make_pipeline\n",
    "from sklearn.naive_bayes import MultinomialNB\n",
    "from sklearn.feature_extraction.text import TfidfVectorizer\n",
    "from sklearn.model_selection import train_test_split\n",
    "from sklearn.naive_bayes import BernoulliNB\n",
    "from sklearn.ensemble import RandomForestClassifier\n",
    "from sklearn.neural_network import MLPClassifier\n",
    "from sklearn.neighbors import KNeighborsClassifier\n",
    "from sklearn.svm import SVC\n",
    "from sklearn import model_selection\n",
    "\n",
    "def nlp_models(select==None):\n",
    "    \"\"\"\n",
    "    :clfs: machine leanring objects from sci-kit learn. ex. \"classifier()\".\n",
    "    :title: name of model used for output descriptions. \n",
    "    :X: features\n",
    "    :y: targets\n",
    "    \"\"\"\n",
    "    \n",
    "    clfs = [MultinomialNB(), BernoulliNB(), RandomForestClassifier(), MLPClassifier(), \n",
    "            KNeighborsClassifier(), SVC()]\n",
    "    title = ['MultinomialNB', 'BernoulliNB', 'RandomForestClassifier', 'MLPClassifier', 'KNN', 'SVC']\n",
    "    \n",
    "    # Run through multiple models!\n",
    "    for t, clf in zip(title, clfs):\n",
    "        model = make_pipeline(TfidfVectorizer(), clf)\n",
    "        model.fit(X_train['Text'], y_train['Speaker'])\n",
    "        pred = model.predict(X_validation['Text'])\n",
    "        print(t,\"Performance\")\n",
    "        print(\"=========================\")\n",
    "        print(model.classes_)\n",
    "        print(confusion_matrix(y_validation['Speaker'], pred))\n",
    "        print(\"Accurracy:\", accuracy_score(y_validation['Speaker'], pred)) \n",
    "        print(\"\")   \n",
    "\n",
    "# Run the function...\n",
    "nlp_models()"
   ]
  },
  {
   "cell_type": "markdown",
   "metadata": {},
   "source": [
    "We can see that the MultiLayerPerceptron (MLP) performs the best. "
   ]
  },
  {
   "cell_type": "markdown",
   "metadata": {},
   "source": [
    "#### Step 4: K-fold Cross Validation \n",
    "\n",
    "Here we will utilize K-fold cross validation. Cross-validation is a statistical method used to estimate the repeated performance of machine learning models. It is a resampling procedure used to evaluate the models on a limited data sample. - This will go through the same process as the function above except it will use 10-fold splitting for CV and we will be able to plot the accuracy of each model to compare algorithms. "
   ]
  },
  {
   "cell_type": "code",
   "execution_count": 79,
   "metadata": {},
   "outputs": [],
   "source": [
    "results = []\n",
    "names = []\n",
    "scoring = 'accuracy'\n",
    "\n",
    "def CV_testing():\n",
    "    \"\"\"\n",
    "    :clfs: machine leanring objects from sci-kit learn. ex. \"classifier()\".\n",
    "    :title: name of model used for output descriptions. \n",
    "    :X: features\n",
    "    :y: targets\n",
    "    \"\"\"\n",
    "    \n",
    "    clfs = [MultinomialNB(), BernoulliNB(), RandomForestClassifier(), MLPClassifier(), \n",
    "            KNeighborsClassifier(), SVC()]\n",
    "    title = ['Multinomial', 'Bernoulli', 'RandForest', 'MLP', 'KNN', 'SVC']\n",
    "    \n",
    "    print(\"Running 2nd pass with 10-Fold CV: \")\n",
    "    for t, clf in zip(title, clfs):\n",
    "        model = make_pipeline(TfidfVectorizer(), clf)\n",
    "        model.fit(X_train['Text'], y_train['Speaker'])\n",
    "        \n",
    "        # K-fold and CV process\n",
    "        kfold = model_selection.KFold(n_splits=10, random_state=SEED)\n",
    "        cv_results = model_selection.cross_val_score(model, X_train['Text'], \n",
    "                                                     y_train['Speaker'], \n",
    "                                                     cv=kfold, \n",
    "                                                     scoring=scoring)\n",
    "        results.append(cv_results)\n",
    "        names.append(t)\n",
    "        msg = \"%s: %f (%f)\" % (t, cv_results.mean(), cv_results.std())\n",
    "        print(msg)\n",
    "        \n",
    "# boxplot algorithm comparison\n",
    "    fig = plt.figure(figsize=(10,5))\n",
    "    fig.suptitle('Algorithm Comparison 10-fold CV')\n",
    "    ax = fig.add_subplot(111)\n",
    "    plt.boxplot(results)\n",
    "    ax.set_xticklabels(names)\n",
    "    plt.show()  "
   ]
  },
  {
   "cell_type": "code",
   "execution_count": 80,
   "metadata": {},
   "outputs": [
    {
     "name": "stdout",
     "output_type": "stream",
     "text": [
      "Running 2nd pass with 10-Fold CV: \n",
      "Multinomial: 0.769902 (0.066424)\n",
      "Bernoulli: 0.732402 (0.060969)\n",
      "RandForest: 0.719770 (0.042267)\n",
      "MLP: 0.820213 (0.083288)\n",
      "KNN: 0.778413 (0.057103)\n",
      "SVC: 0.594238 (0.077746)\n"
     ]
    },
    {
     "data": {
      "image/png": "[encoded data removed]",
      "text/plain": [
       "<matplotlib.figure.Figure at 0x118ab56d0>"
      ]
     },
     "metadata": {},
     "output_type": "display_data"
    }
   ],
   "source": [
    "CV_testing()"
   ]
  },
  {
   "cell_type": "markdown",
   "metadata": {},
   "source": [
    "## Testing MLP on all Speakers for Fun\n",
    "\n",
    "Here we will try to classify multiple speakers from the TF-id vectorizer... We will use the MLP to do this since it permormed well previously. "
   ]
  },
  {
   "cell_type": "code",
   "execution_count": 77,
   "metadata": {},
   "outputs": [
    {
     "name": "stdout",
     "output_type": "stream",
     "text": [
      "('MLPClassifier', 'Performance')\n",
      "=========================\n",
      "[u'Audience' u'Clinton' u'Cooper' u'Holt' u'Kaine' u'Pence' u'Quijano'\n",
      " u'Raddatz' u'Trump' u'Wallace']\n",
      "('Accurracy:', 0.6179775280898876)\n",
      "\n",
      "             precision    recall  f1-score   support\n",
      "\n",
      "   Audience       1.00      1.00      1.00        11\n",
      "    Clinton       0.69      0.62      0.65        56\n",
      "     Cooper       0.64      0.64      0.64        11\n",
      "       Holt       0.53      0.50      0.52        16\n",
      "      Kaine       0.61      0.48      0.54        23\n",
      "      Pence       0.38      0.39      0.38        23\n",
      "    Quijano       0.83      0.45      0.59        11\n",
      "    Raddatz       0.62      0.33      0.43        15\n",
      "      Trump       0.63      0.75      0.68        75\n",
      "    Wallace       0.53      0.69      0.60        26\n",
      "\n",
      "avg / total       0.63      0.62      0.61       267\n",
      "\n",
      "Confusion matrix, without normalization\n",
      "[[11  0  0  0  0  0  0  0  0  0]\n",
      " [ 0 35  0  0  1  2  0  1 14  3]\n",
      " [ 0  0  7  0  0  1  0  0  1  2]\n",
      " [ 0  2  0  8  0  1  0  1  2  2]\n",
      " [ 0  2  0  0 11  1  0  0  8  1]\n",
      " [ 0  5  0  0  2  9  1  0  3  3]\n",
      " [ 0  0  1  1  1  1  5  0  1  1]\n",
      " [ 0  0  1  3  1  2  0  5  1  2]\n",
      " [ 0  7  2  1  2  5  0  0 56  2]\n",
      " [ 0  0  0  2  0  2  0  1  3 18]]\n"
     ]
    },
    {
     "data": {
      "image/png": "[encoded data removed]",
      "text/plain": [
       "<matplotlib.figure.Figure at 0x118ad8090>"
      ]
     },
     "metadata": {},
     "output_type": "display_data"
    }
   ],
   "source": [
    "import numpy as np\n",
    "import itertools\n",
    "\n",
    "from sklearn.metrics import classification_report\n",
    "\n",
    "# First set up nicer confusion matrix plot for viewing multi-classes\n",
    "\n",
    "class_names = ['Audience', 'Clinton','Cooper','Holt','Kaine' ,'Pence','Quijano','Raddatz', 'Trump', 'Wallace']\n",
    "\n",
    "def plot_confusion_matrix(cm, classes,\n",
    "                          normalize=False,\n",
    "                          title='Confusion matrix',\n",
    "                          cmap=plt.cm.Blues):\n",
    "    \"\"\"\n",
    "    This function prints and plots the confusion matrix.\n",
    "    Normalization can be applied by setting `normalize=True`.\n",
    "    \"\"\"\n",
    "    if normalize:\n",
    "        cm = cm.astype('float') / cm.sum(axis=1)[:, np.newaxis]\n",
    "        print(\"Normalized confusion matrix\")\n",
    "    else:\n",
    "        print('Confusion matrix, without normalization')\n",
    "\n",
    "    print(cm)\n",
    "\n",
    "    plt.imshow(cm, interpolation='nearest', cmap=cmap)\n",
    "    plt.title(title)\n",
    "    plt.colorbar()\n",
    "    tick_marks = np.arange(len(classes))\n",
    "    plt.xticks(tick_marks, classes, rotation=45)\n",
    "    plt.yticks(tick_marks, classes)\n",
    "\n",
    "    fmt = '.2f' if normalize else 'd'\n",
    "    thresh = cm.max() / 2.\n",
    "    for i, j in itertools.product(range(cm.shape[0]), range(cm.shape[1])):\n",
    "        plt.text(j, i, format(cm[i, j], fmt),\n",
    "                 horizontalalignment=\"center\",\n",
    "                 color=\"white\" if cm[i, j] > thresh else \"black\")\n",
    "\n",
    "    plt.tight_layout()\n",
    "    plt.ylabel('True label')\n",
    "    plt.xlabel('Predicted label')\n",
    "\n",
    "#############################################################################\n",
    "#Load train test split\n",
    "X_train, X_validation, y_train, y_validation = traintestsplit(filtered='OFF')\n",
    "#############################################################################\n",
    "\n",
    "def nlp_models(select=None):\n",
    "    \"\"\"\n",
    "    :clfs: MLP\n",
    "    :title: name of model used for output descriptions. \n",
    "    :X: features\n",
    "    :y: targets\n",
    "    \"\"\"\n",
    "    \n",
    "    clfs = [ MLPClassifier(activation='relu', alpha=0.0001, batch_size='auto', beta_1=0.9,\n",
    "       beta_2=0.999, early_stopping=False, epsilon=1e-08,\n",
    "       hidden_layer_sizes=(100), learning_rate='constant',\n",
    "       learning_rate_init=0.001, max_iter=200, momentum=0.9,\n",
    "       nesterovs_momentum=True, power_t=0.5, random_state=None,\n",
    "       shuffle=True, solver='adam', tol=0.0001, validation_fraction=0.1,\n",
    "       verbose=False, warm_start=False)]\n",
    "    \n",
    "    title = ['MLPClassifier']\n",
    "    \n",
    "    # Run through multiple models!\n",
    "    for t, clf in zip(title, clfs):\n",
    "        model = make_pipeline(TfidfVectorizer(), clf)\n",
    "        model.fit(X_train['Text'], y_train['Speaker'])\n",
    "        pred = model.predict(X_validation['Text'])\n",
    "        print(t,\"Performance\")\n",
    "        print(\"=========================\")\n",
    "        print(model.classes_)\n",
    "        #print(confusion_matrix(y_validation['Speaker'], pred))\n",
    "        print(\"Accurracy:\", accuracy_score(y_validation['Speaker'], pred)) \n",
    "        print(\"\")   \n",
    "        \n",
    "        print(classification_report(y_validation['Speaker'], pred, target_names=class_names))\n",
    "        # Compute confusion matrix\n",
    "    cnf_matrix = confusion_matrix(y_validation['Speaker'], pred)\n",
    "    np.set_printoptions(precision=2)\n",
    "\n",
    "# Plot non-normalized confusion matrix\n",
    "    plt.figure(figsize=(20,10))\n",
    "    plot_confusion_matrix(cnf_matrix, classes=class_names,\n",
    "                      title='Confusion matrix, without normalization')\n",
    "\n",
    "# Run the function...\n",
    "nlp_models()"
   ]
  },
  {
   "cell_type": "markdown",
   "metadata": {},
   "source": []
  },
  {
   "cell_type": "code",
   "execution_count": null,
   "metadata": {},
   "outputs": [],
   "source": []
  }
 ],
 "metadata": {
  "kernelspec": {
   "display_name": "Python 2",
   "language": "python",
   "name": "python2"
  },
  "language_info": {
   "codemirror_mode": {
    "name": "ipython",
    "version": 2
   },
   "file_extension": ".py",
   "mimetype": "text/x-python",
   "name": "python",
   "nbconvert_exporter": "python",
   "pygments_lexer": "ipython2",
   "version": "2.7.13"
  },
  "varInspector": {
   "cols": {
    "lenName": 16,
    "lenType": 16,
    "lenVar": 40
   },
   "kernels_config": {
    "python": {
     "delete_cmd_postfix": "",
     "delete_cmd_prefix": "del ",
     "library": "var_list.py",
     "varRefreshCmd": "print(var_dic_list())"
    },
    "r": {
     "delete_cmd_postfix": ") ",
     "delete_cmd_prefix": "rm(",
     "library": "var_list.r",
     "varRefreshCmd": "cat(var_dic_list()) "
    }
   },
   "types_to_exclude": [
    "module",
    "function",
    "builtin_function_or_method",
    "instance",
    "_Feature"
   ],
   "window_display": false
  }
 },
 "nbformat": 4,
 "nbformat_minor": 2
}
